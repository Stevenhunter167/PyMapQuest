{
 "cells": [
  {
   "cell_type": "markdown",
   "metadata": {},
   "source": [
    "## MapQuest module demo\n",
    "1. get total distance\n",
    "2. get total time\n",
    "3. get step-by-step direction\n",
    "4. get point of interests near a location"
   ]
  },
  {
   "cell_type": "code",
   "execution_count": 12,
   "metadata": {},
   "outputs": [],
   "source": [
    "from MapQuest import MapQuest\n",
    "import time"
   ]
  },
  {
   "cell_type": "code",
   "execution_count": 13,
   "metadata": {},
   "outputs": [],
   "source": [
    "client = MapQuest(\"Enter your API key\") # use your key from MapQuest API key Official Website"
   ]
  },
  {
   "cell_type": "code",
   "execution_count": 14,
   "metadata": {},
   "outputs": [
    {
     "name": "stdout",
     "output_type": "stream",
     "text": [
      "10.318 km\n"
     ]
    }
   ],
   "source": [
    "locations = ['3750 barranca pkwy, Irvine, CA 92606', \n",
    "             '4143 Campus Dr, Irvine, CA 92612', \n",
    "             '3333 Bristol St, Costa Mesa, CA']\n",
    "\n",
    "res = client.totalDistance(locations) # get total distance in kilometer\n",
    "print(res, \"km\")"
   ]
  },
  {
   "cell_type": "code",
   "execution_count": 16,
   "metadata": {},
   "outputs": [
    {
     "name": "stdout",
     "output_type": "stream",
     "text": [
      "946 seconds\n"
     ]
    }
   ],
   "source": [
    "res = client.totalTime(locations) # get total time in seconds\n",
    "print(res, 'seconds')"
   ]
  },
  {
   "cell_type": "code",
   "execution_count": 7,
   "metadata": {},
   "outputs": [
    {
     "name": "stdout",
     "output_type": "stream",
     "text": [
      "Total Evaluation Time 0.6798205375671387\n",
      "Start out going northwest on Campus Dr toward Carlson Ave.\n",
      "Turn right onto Jamboree Rd.\n",
      "Merge onto I-405/San Diego Fwy.\n",
      "Merge onto I-110/Harbor Fwy via EXIT 37A.\n",
      "Take the Adams Boulevard exit, EXIT 20C.\n",
      "Turn left onto W Adams Blvd.\n",
      "Turn right onto ramp.\n",
      "Merge onto Figueroa St.\n",
      "FIGUEROA STREET.\n",
      "Start out going northeast on Figueroa St toward 9th St.\n",
      "Turn left onto 8th St.\n",
      "Merge onto CA-110/Pasadena Fwy.\n",
      "Take the US-101/I-5 exit, EXIT 24A.\n",
      "Merge onto US-101/Santa Ana Fwy.\n",
      "Stay straight to go onto San Bernardino Fwy.\n",
      "Merge onto I-15 E via EXIT 58A toward Barstow/Las Vegas (Crossing into Nevada).\n",
      "Merge onto NV-159 via EXIT 41A toward Charleston Blvd East.\n",
      "Turn left onto S Las Vegas Blvd.\n",
      "S Las Vegas Blvd becomes Las Vegas Blvd N.\n",
      "SOUTH LAS VEGAS BOULEVARD.\n"
     ]
    }
   ],
   "source": [
    "locations=['4533 Campus Dr, Irvine, CA',\n",
    "           '1111 Figueroa St, Los Angeles, CA',\n",
    "           '3799 S Las Vegas Blvd, Las Vegas, NV']\n",
    "\n",
    "res = MapQuest(\"9vZ9zYUCDMtMlMwxcyL9AnewGOV9Q0Gm\").directions(locations) # get step-by-step direction in a list\n",
    "\n",
    "for step in res:\n",
    "    print(step)"
   ]
  },
  {
   "cell_type": "code",
   "execution_count": 18,
   "metadata": {},
   "outputs": [
    {
     "name": "stdout",
     "output_type": "stream",
     "text": [
      "R & M Pacific Rim Inc, 4601 Campus Dr, Irvine, CA 92612\n",
      "CHEVRON #96698, 18002 Culver Dr, Irvine, CA 92612\n",
      "ExtraMile, 18002 Culver Dr, Irvine, CA 92612\n",
      "Culver Auto Spa, 18011 Culver Dr, Irvine, CA 92612\n",
      "Chevron Station, 1240 Bison Ave, Newport Beach, CA 92660\n",
      "76, 2690 San Miguel Dr, Newport Beach, CA 92660\n",
      "Newport Hills 76, 2690 San Miguel Dr, Newport Beach, CA 92660\n",
      "J R Enterprises, 4299 Macarthur Blvd, Newport Beach, CA 92660\n",
      "R & M Shell, 3090 Main St, Irvine, CA 92614\n",
      "Chevron USA Inc, 2121 SE Bristol St, Newport Beach, CA 92660\n"
     ]
    }
   ],
   "source": [
    "res = client.pointOfInterest('4143 Campus Dr, Irvine, CA 92612', 'gas station', 10) # get all gas stations near 4143 Campus Dr\n",
    "\n",
    "for result in res:\n",
    "    print(result)"
   ]
  },
  {
   "cell_type": "code",
   "execution_count": null,
   "metadata": {},
   "outputs": [],
   "source": []
  }
 ],
 "metadata": {
  "kernelspec": {
   "display_name": "Python 3.8.4 64-bit",
   "language": "python",
   "name": "python38464bit5805b2c5dadd417d97380d4de7abecbc"
  },
  "language_info": {
   "codemirror_mode": {
    "name": "ipython",
    "version": 3
   },
   "file_extension": ".py",
   "mimetype": "text/x-python",
   "name": "python",
   "nbconvert_exporter": "python",
   "pygments_lexer": "ipython3",
   "version": "3.8.4"
  }
 },
 "nbformat": 4,
 "nbformat_minor": 4
}
